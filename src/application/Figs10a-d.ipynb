{
 "cells": [
  {
   "cell_type": "markdown",
   "metadata": {},
   "source": [
    "# Title"
   ]
  },
  {
   "cell_type": "markdown",
   "metadata": {},
   "source": [
    "## Contents \n",
    "1. [<span style=\"color:black\">Import packages</span>](#1) <a id=\"one\"></a>  \n",
    "2. [<span style=\"color:black\">Read in data</span>](#2)  <a id=\"two\"></a>  \n",
    "3. [<span style=\"color:black\">Frequency per year in types/context date ranges</span>](#3) <a id=\"three\"></a>  \n",
    "4. [<span style=\"color:black\">Type count per year in types/context date ranges</span>](#4) <a id=\"four\"></a>   \n",
    "5. [<span style=\"color:black\">Plot line graphs</span>](#5) <a id=\"five\"></a>  "
   ]
  },
  {
   "cell_type": "markdown",
   "metadata": {},
   "source": [
    "### [<span style=\"color:black\">1. Import packages</span>](#one) <a id=\"1\"></a> "
   ]
  },
  {
   "cell_type": "code",
   "execution_count": 1,
   "metadata": {},
   "outputs": [],
   "source": [
    "import sys\n",
    "\n",
    "sys.path.append(\"../sonata\")\n",
    "import pandas as pd\n",
    "import seaborn as sns\n",
    "import matplotlib.pyplot as plt\n",
    "from matplotlib.ticker import FormatStrFormatter\n",
    "from calculation import sum_freq_per_year, year_freq_df, year_object_count_df\n",
    "from plot import plot_graph "
   ]
  },
  {
   "cell_type": "markdown",
   "metadata": {},
   "source": [
    "### [<span style=\"color:black\">2. Read in data</span>](#two)  <a id=\"2\"></a>"
   ]
  },
  {
   "cell_type": "code",
   "execution_count": 2,
   "metadata": {},
   "outputs": [],
   "source": [
    "data = pd.read_csv(\"../../data/Sonata_data_site_contents.csv\") \n",
    "\n",
    "sites = [\"roma\", \"ostia\", \"bay_of_naples\"]\n",
    "bay_of_naples = [\"villa arianna, stabiae\", \"villa san marco, stabiae\",  \"cuma, tete de cire, phase 2.\", \"cuma, tete de cire, phase 4.\", \"rione terra, puteoli\",  \"casa di ariadna, pompeii\", \"cratere senga, puteoli\"]\n",
    "\n",
    "start_dates = [\"Amphora_type_lower_date\", \"Lower_context_date\"]\n",
    "end_dates = [\"Amphora_type_upper_date\", \"Upper_context_date\"]\n",
    "\n",
    "freq_type_dates = {}\n",
    "freq_context_dates = {}\n",
    "\n",
    "type_count_type_dates = {}\n",
    "type_count_context_dates = {}\n",
    "\n",
    "list_of_dfs = []"
   ]
  },
  {
   "cell_type": "markdown",
   "metadata": {},
   "source": [
    "### [<span style=\"color:black\">3. Frequency per year in types/context date ranges</span>](#three) <a id=\"3\"></a>  "
   ]
  },
  {
   "cell_type": "code",
   "execution_count": 3,
   "metadata": {},
   "outputs": [],
   "source": [
    "for site in sites:\n",
    "    for start, end in zip(start_dates, end_dates):\n",
    "        if site == \"bay_of_naples\":\n",
    "            df = data[data[\"site\"].isin(bay_of_naples)]\n",
    "        else:\n",
    "            df = data[data[\"Grouped_sites\"] == site]\n",
    "            \n",
    "\n",
    "        df = df.groupby([\"Amphora_type\", start, end])[\"Frequency\"].sum()\n",
    "        df = df.reset_index()\n",
    "        df = df.rename(columns = {\"Frequency\":\"summed_freq\"})\n",
    "              \n",
    "\n",
    "        df1= sum_freq_per_year(data = df,\n",
    "                               sum_freq = \"summed_freq\",\n",
    "                               lower_date = start,\n",
    "                               upper_date = end)\n",
    "\n",
    "        freq = year_freq_df(data = df1,     \n",
    "                            lower_date = start,\n",
    "                            upper_date = end,\n",
    "                            sum_freq = \"Sum_freq_per_year\")  \n",
    "\n",
    "        label = site.capitalize() \n",
    "\n",
    "        if \"Amphora\" in start or \"Amphora\" in end:   \n",
    "            freq_type_dates[label] = freq\n",
    "\n",
    "        else:\n",
    "            freq_context_dates[label] = freq\n",
    "\n",
    "list_of_dfs.append(freq_type_dates)\n",
    "list_of_dfs.append(freq_context_dates)"
   ]
  },
  {
   "cell_type": "markdown",
   "metadata": {},
   "source": [
    "### [<span style=\"color:black\">4. Type count per year in types/context date ranges</span>](#four) <a id=\"4\"></a>  "
   ]
  },
  {
   "cell_type": "code",
   "execution_count": 4,
   "metadata": {},
   "outputs": [],
   "source": [
    "for site in sites:\n",
    "    for start, end in zip(start_dates, end_dates):\n",
    "        if site == \"bay_of_naples\":\n",
    "            df = data[data[\"site\"].isin(bay_of_naples)]\n",
    "        else:\n",
    "            df = data[data[\"Grouped_sites\"] == site]\n",
    "\n",
    "        df = df.groupby([start, end])[\"Amphora_type\"].apply(list)\n",
    "        df = df.reset_index()\n",
    "        df = df.rename(columns = {\"Amphora_type\":\"List_of_types\"})\n",
    "\n",
    "        type_count = year_object_count_df(data = df, \n",
    "                                          lower_date = start,  \n",
    "                                          upper_date = end,\n",
    "                                          object_list = \"List_of_types\")  \n",
    "\n",
    "        label = site.capitalize()\n",
    "\n",
    "        if \"Amphora\" in start or \"Amphora\" in end:   \n",
    "            type_count_type_dates[label] = type_count\n",
    "        else:\n",
    "            type_count_context_dates[label] = type_count\n",
    "            \n",
    "list_of_dfs.append(type_count_type_dates)\n",
    "list_of_dfs.append(type_count_context_dates)"
   ]
  },
  {
   "cell_type": "markdown",
   "metadata": {},
   "source": [
    "### [<span style=\"color:black\">5. Plot line graphs</span>](#five) <a id=\"5\"></a>"
   ]
  },
  {
   "cell_type": "code",
   "execution_count": 33,
   "metadata": {},
   "outputs": [
    {
     "name": "stderr",
     "output_type": "stream",
     "text": [
      "/tmp/ipykernel_24689/1905061812.py:21: UserWarning: FixedFormatter should only be used together with FixedLocator\n",
      "  ax.set_xticklabels([int(i) if i != 0 else 1 for i in ax.get_xticks()])\n",
      "/tmp/ipykernel_24689/1905061812.py:21: UserWarning: FixedFormatter should only be used together with FixedLocator\n",
      "  ax.set_xticklabels([int(i) if i != 0 else 1 for i in ax.get_xticks()])\n",
      "/tmp/ipykernel_24689/1905061812.py:21: UserWarning: FixedFormatter should only be used together with FixedLocator\n",
      "  ax.set_xticklabels([int(i) if i != 0 else 1 for i in ax.get_xticks()])\n",
      "/tmp/ipykernel_24689/1905061812.py:21: UserWarning: FixedFormatter should only be used together with FixedLocator\n",
      "  ax.set_xticklabels([int(i) if i != 0 else 1 for i in ax.get_xticks()])\n"
     ]
    }
   ],
   "source": [
    "sns.set_style(\"white\", {\"font.family\":\"serif\", \"font.serif\":\"Times New Roman\"})  \n",
    "\n",
    "fig, axs= plt.subplots(nrows=2, ncols=2, figsize=(12, 8))\n",
    "\n",
    "axs[0, 0].set_xlim([-400, 800])\n",
    "axs[0, 1].set_xlim([-400, 800])\n",
    "axs[1, 0].set_xlim([-400, 800])\n",
    "axs[1, 1].set_xlim([-400, 800])\n",
    "\n",
    "for ax, df in zip(axs.ravel(), list_of_dfs):\n",
    "    plot_graph(dicts_of_df = df,\n",
    "               palette=[\"black\", \"green\", \"blue\"],\n",
    "               ax = ax,\n",
    "               linewidth = 2)\n",
    "\n",
    "    ax.set_ylim(0, None)\n",
    "    ax.yaxis.set_major_formatter(FormatStrFormatter(\"%.0f\"))  \n",
    "    ax.set_xlabel(None)\n",
    "    ax.get_legend().remove()\n",
    "    ax.set_ylabel(None)\n",
    "    ax.set_xticklabels([int(i) if i != 0 else 1 for i in ax.get_xticks()])\n",
    "    handles, labels = ax.get_legend_handles_labels() \n",
    "    fig.legend(handles, labels, bbox_to_anchor=(0.974, 0.935), fontsize = 10)\n",
    "\n",
    "axs[0,0].set_ylabel(\"Frequency\")\n",
    "axs[1,0].set_ylabel(\"Type count\")\n",
    "\n",
    "axs[0, 0].set_title(label = \"Type dates\", size=15, y=1.04)\n",
    "axs[0, 1].set_title(label = \"Site dates\", size=15, y=1.04)\n",
    "\n",
    "axs[0, 0].text(-350, 57, \"A\", fontsize = 25)\n",
    "axs[0, 1].text(-350, 135, \"B\", fontsize = 25)\n",
    "axs[1, 0].text(-350, 127, \"C\", fontsize = 25)\n",
    "axs[1, 1].text(-350, 145, \"D\", fontsize = 25)\n",
    "\n",
    "plt.tight_layout()\n",
    "plt.savefig(\"../../figs/Fig10a-d.png\", bbox_inches=\"tight\")"
   ]
  }
 ],
 "metadata": {
  "kernelspec": {
   "display_name": "Python 3.8.10 ('myproject-o7xzvy_i')",
   "language": "python",
   "name": "python3"
  },
  "language_info": {
   "codemirror_mode": {
    "name": "ipython",
    "version": 3
   },
   "file_extension": ".py",
   "mimetype": "text/x-python",
   "name": "python",
   "nbconvert_exporter": "python",
   "pygments_lexer": "ipython3",
   "version": "3.8.10"
  },
  "orig_nbformat": 4,
  "vscode": {
   "interpreter": {
    "hash": "c7f344db0e561ee441066de879d73e8a6881361abdcab087cf1026d0105d7860"
   }
  }
 },
 "nbformat": 4,
 "nbformat_minor": 2
}
