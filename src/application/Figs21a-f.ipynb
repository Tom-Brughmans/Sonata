{
 "cells": [
  {
   "cell_type": "markdown",
   "metadata": {},
   "source": [
    "# Title"
   ]
  },
  {
   "cell_type": "markdown",
   "metadata": {},
   "source": [
    "## Contents \n",
    "1. [<span style=\"color:black\">Import packages</span>](#1) <a id=\"one\"></a>  \n",
    "2. [<span style=\"color:black\">Read in data</span>](#2)  <a id=\"two\"></a>  \n",
    "3. [<span style=\"color:black\">Sum of frequency per content per provenance type per year in types/context date ranges</span>](#3) <a id=\"three\"></a>  \n",
    "4. [<span style=\"color:black\">Site count per content per provenance type per year in types/context date ranges</span>](#4)  <a id=\"four\"></a>   \n",
    "5. [<span style=\"color:black\">Amphora type count per content per sprovenance type per year in types/context date ranges</span>](#5)  <a id=\"five\"></a>  \n",
    "6. [<span style=\"color:black\">Plot line graphs</span>](#6) <a id=\"six\"></a>  "
   ]
  },
  {
   "cell_type": "markdown",
   "metadata": {},
   "source": [
    "### [<span style=\"color:black\">1. Import packages</span>](#one) <a id=\"1\"></a> "
   ]
  },
  {
   "cell_type": "code",
   "execution_count": 2,
   "metadata": {},
   "outputs": [],
   "source": [
    "import sys\n",
    "\n",
    "sys.path.append(\"../sonata\")\n",
    "import pandas as pd\n",
    "import seaborn as sns\n",
    "import matplotlib.pyplot as plt\n",
    "from matplotlib.ticker import FormatStrFormatter\n",
    "from calculation import sum_freq_per_year, year_freq_df, year_object_count_df\n",
    "from plot import plot_graph "
   ]
  },
  {
   "cell_type": "markdown",
   "metadata": {},
   "source": [
    "### [<span style=\"color:black\">2. Read in data</span>](#two)  <a id=\"2\"></a>"
   ]
  },
  {
   "cell_type": "code",
   "execution_count": 5,
   "metadata": {},
   "outputs": [],
   "source": [
    "data = pd.read_csv(\"../../data/Sonata_data_site_contents.csv\") \n",
    "data = data[data[\"content\"] == \"fish sauce\"]\n",
    "\n",
    "#there is no oil for aegean and orient\n",
    "#provenance = [\"africa\", \"gaul\", \"baetica\", \"tarraconesis\", \"aegean\", \"orient\"]\n",
    "provenance = [\"gaul\", \"baetica\", \"africa\", \"tarraconesis\"]\n",
    "start_dates = [\"Amphora_type_lower_date\", \"Lower_context_date\"]\n",
    "end_dates = [\"Amphora_type_upper_date\", \"Upper_context_date\"]\n",
    "\n",
    "freq_type_dates = {}\n",
    "freq_context_dates = {}\n",
    "\n",
    "site_count_type_dates = {}\n",
    "site_count_context_dates = {}\n",
    "\n",
    "type_count_type_dates = {}\n",
    "type_count_context_dates = {}\n",
    "\n",
    "list_of_dfs = []"
   ]
  },
  {
   "cell_type": "markdown",
   "metadata": {},
   "source": [
    "### [<span style=\"color:black\">3. Sum of frequency per content per provenance type per year in types/context date ranges</span>](#three) <a id=\"3\"></a>"
   ]
  },
  {
   "cell_type": "code",
   "execution_count": 6,
   "metadata": {},
   "outputs": [],
   "source": [
    "for prov in provenance:\n",
    "    for start, end in zip(start_dates, end_dates):\n",
    "\n",
    "        df = data.groupby([\"Amphora_type\", start, end, \"Provenance\"])[\"Frequency\"].sum()\n",
    "        df = df.reset_index()\n",
    "        df = df.rename(columns = {\"Frequency\":\"summed_freq\"})\n",
    "\n",
    "        df1 = sum_freq_per_year(data = df,\n",
    "                                sum_freq = \"summed_freq\",\n",
    "                                lower_date = start,\n",
    "                                upper_date = end)\n",
    "\n",
    "        freq = year_freq_df(data = df1[df1[\"Provenance\"] == prov],     \n",
    "                            lower_date = start,\n",
    "                            upper_date = end,\n",
    "                            sum_freq = \"Sum_freq_per_year\")   \n",
    "        \n",
    "        label = prov.capitalize()\n",
    "        \n",
    "        if \"Amphora\" in start or \"Amphora\" in  end:   \n",
    "            freq_type_dates[label] = freq\n",
    "        else:\n",
    "            freq_context_dates[label] = freq\n",
    "            \n",
    "list_of_dfs.append(freq_type_dates)\n",
    "list_of_dfs.append(freq_context_dates)"
   ]
  },
  {
   "cell_type": "markdown",
   "metadata": {},
   "source": [
    "### [<span style=\"color:black\">4. Site count per content per site type per year in types/context date ranges</span>](#four) <a id=\"4\"></a>  "
   ]
  },
  {
   "cell_type": "code",
   "execution_count": 7,
   "metadata": {},
   "outputs": [],
   "source": [
    "for prov in provenance:\n",
    "    for start, end in zip(start_dates, end_dates):\n",
    "        df = data.groupby([\"Amphora_type\", start, end, \"Provenance\"])[\"Grouped_sites\"].apply(lambda x: \",\".join(x))\n",
    "        df = df.apply(lambda x: x.split(','))\n",
    "        df = df.reset_index()\n",
    "        df = df.rename(columns = {\"Grouped_sites\":\"List_of_sites\"})\n",
    "\n",
    "        count_sites = year_object_count_df(data = df[df[\"Provenance\"] == prov],\n",
    "                                           lower_date = start,  \n",
    "                                           upper_date = end,\n",
    "                                           object_list = \"List_of_sites\") \n",
    "        label = prov.capitalize()\n",
    "\n",
    "        if \"Amphora\" in start or \"Amphora\" in  end:   \n",
    "            site_count_type_dates[label] = count_sites\n",
    "        else:\n",
    "            site_count_context_dates[label] = count_sites\n",
    "\n",
    "list_of_dfs.append(site_count_type_dates)\n",
    "list_of_dfs.append(site_count_context_dates)"
   ]
  },
  {
   "cell_type": "markdown",
   "metadata": {},
   "source": [
    "### [<span style=\"color:black\">5. Amphora type count per content per site type per year in types/context date ranges</span>](#five) <a id=\"5\"></a>"
   ]
  },
  {
   "cell_type": "code",
   "execution_count": 8,
   "metadata": {},
   "outputs": [],
   "source": [
    "for prov in provenance:\n",
    "    for start, end in zip(start_dates, end_dates):\n",
    "        df = data.groupby([start, end, \"Provenance\"])[\"Amphora_type\"].apply(list)\n",
    "        df = df.reset_index()\n",
    "        df = df.rename(columns = {\"Amphora_type\":\"List_of_types\"})\n",
    "\n",
    "        type_count = year_object_count_df(data = df[df[\"Provenance\"] == prov], \n",
    "                                          lower_date = start,  \n",
    "                                          upper_date = end,\n",
    "                                          object_list = \"List_of_types\")  \n",
    "        label = prov.capitalize()\n",
    "\n",
    "        if \"Amphora\" in start or \"Amphora\" in end:   \n",
    "            type_count_type_dates[label] = type_count\n",
    "        else:\n",
    "            type_count_context_dates[label] = type_count\n",
    "            \n",
    "list_of_dfs.append(type_count_type_dates)\n",
    "list_of_dfs.append(type_count_context_dates)"
   ]
  },
  {
   "cell_type": "markdown",
   "metadata": {},
   "source": [
    "### [<span style=\"color:black\">6. Plot line graphs</span>](#six) <a id=\"6\"></a>"
   ]
  },
  {
   "cell_type": "code",
   "execution_count": 21,
   "metadata": {},
   "outputs": [
    {
     "name": "stderr",
     "output_type": "stream",
     "text": [
      "/tmp/ipykernel_29839/3459507696.py:23: UserWarning: FixedFormatter should only be used together with FixedLocator\n",
      "  ax.set_xticklabels([int(i) if i != 0 else 1 for i in ax.get_xticks()])\n"
     ]
    }
   ],
   "source": [
    "sns.set_style(\"white\", {\"font.family\":\"serif\", \"font.serif\":\"Times New Roman\"}) \n",
    "\n",
    "fig, axs= plt.subplots(nrows=3, ncols=2, figsize=(12, 12))\n",
    "\n",
    "axs[0, 0].set_xlim([-400, 800])\n",
    "axs[0, 1].set_xlim([-400, 800])\n",
    "axs[1, 0].set_xlim([-400, 800])\n",
    "axs[1, 1].set_xlim([-400, 800])\n",
    "axs[2, 0].set_xlim([-400, 800])\n",
    "axs[2, 1].set_xlim([-400, 800])\n",
    "\n",
    "for ax, df in zip(axs.ravel(), list_of_dfs):\n",
    "    plot_graph(dicts_of_df = df,\n",
    "               palette=[\"black\", \"green\", \"blue\", \"red\"],\n",
    "               ax = ax,\n",
    "               linewidth = 2)\n",
    "               \n",
    "    ax.set_ylim(0, None)\n",
    "    ax.yaxis.set_major_formatter(FormatStrFormatter(\"%.0f\"))  \n",
    "    ax.set_xlabel(None)\n",
    "    ax.get_legend().remove()\n",
    "    ax.set_ylabel(None)\n",
    "    ax.set_xticklabels([int(i) if i != 0 else 1 for i in ax.get_xticks()])\n",
    "    handles, labels = ax.get_legend_handles_labels() \n",
    "    fig.legend(handles, labels,  bbox_to_anchor=(0.973, 0.957), fontsize = 10)\n",
    "\n",
    "axs[0,0].set_ylabel(\"Frequency\")\n",
    "axs[1,0].set_ylabel(\"Site count\")\n",
    "axs[2,0].set_ylabel(\"Type count\")\n",
    "\n",
    "axs[0, 0].set_title(label = \"Type dates\", size=15, y=1.04)\n",
    "axs[0, 1].set_title(label = \"Site dates\", size=15, y=1.04)\n",
    "\n",
    "axs[0, 0].text(-350, 11, \"A\", fontsize = 25)\n",
    "axs[0, 1].text(-350, 11.5, \"B\", fontsize = 25)\n",
    "axs[1, 0].text(-350, 18.5, \"C\", fontsize = 25)\n",
    "axs[1, 1].text(-350, 18.5, \"D\", fontsize = 25)\n",
    "axs[2, 0].text(-350, 12.5, \"E\", fontsize = 25)\n",
    "axs[2, 1].text(-350, 14, \"F\", fontsize = 25)\n",
    "\n",
    "fig.supxlabel(\"Year\")\n",
    "\n",
    "plt.tight_layout()\n",
    "plt.savefig(\"../../figs/Fig21a-f.png\")"
   ]
  }
 ],
 "metadata": {
  "kernelspec": {
   "display_name": "Python 3.8.10 ('myproject-o7xzvy_i')",
   "language": "python",
   "name": "python3"
  },
  "language_info": {
   "codemirror_mode": {
    "name": "ipython",
    "version": 3
   },
   "file_extension": ".py",
   "mimetype": "text/x-python",
   "name": "python",
   "nbconvert_exporter": "python",
   "pygments_lexer": "ipython3",
   "version": "3.8.10"
  },
  "orig_nbformat": 4,
  "vscode": {
   "interpreter": {
    "hash": "c7f344db0e561ee441066de879d73e8a6881361abdcab087cf1026d0105d7860"
   }
  }
 },
 "nbformat": 4,
 "nbformat_minor": 2
}
